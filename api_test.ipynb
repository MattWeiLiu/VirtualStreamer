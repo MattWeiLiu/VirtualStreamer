{
 "cells": [
  {
   "cell_type": "code",
   "execution_count": 12,
   "id": "85dbe985-6f78-4c9e-a34e-c01deff07cd1",
   "metadata": {},
   "outputs": [],
   "source": [
    "import requests\n",
    "import base64\n",
    "import json"
   ]
  },
  {
   "cell_type": "code",
   "execution_count": 14,
   "id": "293a10e2-0bca-4af4-ba91-328026275148",
   "metadata": {},
   "outputs": [],
   "source": [
    "url = \"http://127.0.0.1:8080/predict\""
   ]
  },
  {
   "cell_type": "code",
   "execution_count": 2,
   "id": "5ac286dc-75d1-4398-a9da-797acac6aa11",
   "metadata": {},
   "outputs": [],
   "source": [
    "with open(\"../../../../data/video/SuperMarioDemoVideo.mp4\", \"rb\") as f:\n",
    "    binary_data = f.read()"
   ]
  },
  {
   "cell_type": "code",
   "execution_count": 24,
   "id": "cafe3056-ce25-4d3b-91ae-410e146e2bf9",
   "metadata": {},
   "outputs": [],
   "source": [
    "\n",
    "data =  {'instances': [{'Action': 'generate',\n",
    "                        'Input': base64.b64encode(binary_data).decode('utf-8')}]\n",
    "        }"
   ]
  },
  {
   "cell_type": "code",
   "execution_count": 18,
   "id": "bc62878b-4fae-4125-bf92-e3b61500aff6",
   "metadata": {},
   "outputs": [],
   "source": [
    "response = requests.post(url, json=data)"
   ]
  },
  {
   "cell_type": "code",
   "execution_count": 19,
   "id": "2f7f867e-bc8b-43c3-9936-19c2f4270372",
   "metadata": {},
   "outputs": [
    {
     "data": {
      "text/plain": [
       "'This is a video of a streamer playing Super Mario game.\\nHere are some game rules:\\n## Game Overview\\n#### Main Character: Mario\\n#### Objective: Rescue Princess Peach who has been kidnapped by Bowser\\n#### Story Setting: The game is set in a fantasy world called the \"Mushroom Kingdom.\"\\n\\n## Game Features\\n#### Power-ups:\\n - Mushroom: Makes Mario grow larger, allowing him to take one extra hit\\n - Fire Flower: Gives Mario the ability to shoot fireballs\\n - Star: Makes Mario invincible for a short period\\n\\n#### Enemies:\\n - Goomba: (brown mushrooms like characters) Basic enemies, can be defeated by jumping on them\\n - Koopa Troopa: (turtle-like characters)Faster-moving enemies, usually require more precision to defeat\\n - Bowser: (leader of the turtle-like Koopa, )The ultimate boss at the end of each worldGame Features\\n\\n#### Possible scenarios in the game:\\n - Running into enemies will hurt you.\\n - Falling into a hole will kill you.\\n - Eating a mushroom will make you bigger and give you an extra life.\\n - Jumping on enemies will defeat them.\\n - Eating a fire flower will allow you to throw fireballs to attack enemies.\\n - Eating a star will grant you temporary invincibility.\\n\\nYou need to briefly summarize the game\\'s progression based on the video content and tell me how do you feel about the journey you just had from your first-person perspective? Do you think the player performed well or poorly? (e.g., poorly because they kept making you die or run into enemies, very well because they made few mistakes and quickly completed the levels)\\nYou have to provided information from a first-person perspective.'"
      ]
     },
     "execution_count": 19,
     "metadata": {},
     "output_type": "execute_result"
    }
   ],
   "source": [
    "json.loads(response.text)[\"predictions\"]"
   ]
  },
  {
   "cell_type": "code",
   "execution_count": 16,
   "id": "9900c742-dced-4cfb-840f-a7f049cd6230",
   "metadata": {},
   "outputs": [
    {
     "data": {
      "text/plain": [
       "'123321'"
      ]
     },
     "execution_count": 16,
     "metadata": {},
     "output_type": "execute_result"
    }
   ],
   "source": [
    "data =  {'instances': [{'Action': 'get_prompt'}]\n",
    "        }\n",
    "response = requests.post(url, json=data)\n",
    "json.loads(response.text)[\"predictions\"]"
   ]
  },
  {
   "cell_type": "code",
   "execution_count": 15,
   "id": "bbfab67c-e6e4-45aa-a35f-bdb8ddf4af83",
   "metadata": {},
   "outputs": [
    {
     "data": {
      "text/plain": [
       "'123321'"
      ]
     },
     "execution_count": 15,
     "metadata": {},
     "output_type": "execute_result"
    }
   ],
   "source": [
    "data =  {'instances': [{'Action': 'update_prompt', \n",
    "                        'new_prompt': \"123321\"}]\n",
    "        }\n",
    "response = requests.post(url, json=data)\n",
    "json.loads(response.text)[\"predictions\"]"
   ]
  },
  {
   "cell_type": "code",
   "execution_count": 11,
   "id": "5ef9b3fb-e6b8-4321-ac7d-bfbf2c039034",
   "metadata": {},
   "outputs": [
    {
     "ename": "NameError",
     "evalue": "name 'requests' is not defined",
     "output_type": "error",
     "traceback": [
      "\u001b[0;31m---------------------------------------------------------------------------\u001b[0m",
      "\u001b[0;31mNameError\u001b[0m                                 Traceback (most recent call last)",
      "Cell \u001b[0;32mIn[11], line 3\u001b[0m\n\u001b[1;32m      1\u001b[0m data \u001b[38;5;241m=\u001b[39m  {\u001b[38;5;124m'\u001b[39m\u001b[38;5;124minstances\u001b[39m\u001b[38;5;124m'\u001b[39m: [{\u001b[38;5;124m'\u001b[39m\u001b[38;5;124mAction\u001b[39m\u001b[38;5;124m'\u001b[39m: \u001b[38;5;124m'\u001b[39m\u001b[38;5;124mget_prompt\u001b[39m\u001b[38;5;124m'\u001b[39m}]\n\u001b[1;32m      2\u001b[0m         }\n\u001b[0;32m----> 3\u001b[0m response \u001b[38;5;241m=\u001b[39m \u001b[43mrequests\u001b[49m\u001b[38;5;241m.\u001b[39mpost(url, json\u001b[38;5;241m=\u001b[39mdata)\n\u001b[1;32m      4\u001b[0m json\u001b[38;5;241m.\u001b[39mloads(response\u001b[38;5;241m.\u001b[39mtext)[\u001b[38;5;124m\"\u001b[39m\u001b[38;5;124mpredictions\u001b[39m\u001b[38;5;124m\"\u001b[39m]\n",
      "\u001b[0;31mNameError\u001b[0m: name 'requests' is not defined"
     ]
    }
   ],
   "source": [
    "data =  {'instances': [{'Action': 'get_prompt'}]\n",
    "        }\n",
    "response = requests.post(url, json=data)\n",
    "json.loads(response.text)[\"predictions\"]"
   ]
  },
  {
   "cell_type": "code",
   "execution_count": 1,
   "id": "59ae0a6b-c0d0-477d-8579-7eb63b5c6e96",
   "metadata": {},
   "outputs": [],
   "source": [
    "import json\n",
    "from typing import Dict, List, Union\n",
    "from google.cloud import aiplatform\n",
    "from google.protobuf import json_format\n",
    "from google.protobuf.struct_pb2 import Value"
   ]
  },
  {
   "cell_type": "code",
   "execution_count": 2,
   "id": "43363acd-6221-474f-a53c-70560ffb62fe",
   "metadata": {},
   "outputs": [],
   "source": [
    "def predict(instances):\n",
    "    \"\"\"\n",
    "    `instances` can be either single instance of type dict or a list\n",
    "    of instances.\n",
    "    \"\"\"\n",
    "    # The AI Platform services require regional API endpoints.\n",
    "    client_options = {\"api_endpoint\": \"us-central1-aiplatform.googleapis.com\"}\n",
    "\n",
    "    # Initialize client that will be used to create and send requests.\n",
    "    # This client only needs to be created once, and can be reused for multiple requests.\n",
    "    client = aiplatform.gapic.PredictionServiceClient(client_options=client_options)\n",
    "\n",
    "    # The format of each instance should conform to the deployed model's prediction input schema.\n",
    "    instances = instances if type(instances) == list else [instances]\n",
    "    instances = [\n",
    "        json_format.ParseDict(instance_dict, Value()) for instance_dict in instances\n",
    "    ]\n",
    "    parameters_dict = {}\n",
    "    parameters = json_format.ParseDict(parameters_dict, Value())\n",
    "    endpoint = client.endpoint_path(\n",
    "        project=project, location=location, endpoint=endpoint_id\n",
    "    )\n",
    "    response = client.predict(\n",
    "        endpoint=endpoint, instances=instances, parameters=parameters\n",
    "    )\n",
    "    return response"
   ]
  },
  {
   "cell_type": "code",
   "execution_count": 3,
   "id": "1caf3b51-f8e8-4a12-ac54-128c7d210949",
   "metadata": {},
   "outputs": [],
   "source": [
    "project = \"aiops-338206\"\n",
    "location = \"us-central1\"\n",
    "endpoint_id = \"5010973666054242304\" # aivliver_p1"
   ]
  },
  {
   "cell_type": "code",
   "execution_count": 9,
   "id": "ab21a6af-e71d-411f-9f21-0a333be96dd0",
   "metadata": {},
   "outputs": [],
   "source": [
    "response = predict({\"Action\": \"get_prompt\"})"
   ]
  },
  {
   "cell_type": "code",
   "execution_count": 10,
   "id": "b7bb10ab-6b13-4fa3-b921-4cf4443db508",
   "metadata": {},
   "outputs": [
    {
     "data": {
      "text/plain": [
       "'This is a video of a streamer playing Super Mario game.\\nHere are some game rules:\\n## Game Overview\\n#### Main Character: Mario\\n#### Objective: Rescue Princess Peach who has been kidnapped by Bowser\\n#### Story Setting: The game is set in a fantasy world called the \"Mushroom Kingdom.\"\\n\\n## Game Features\\n#### Power-ups:\\n - Mushroom: Makes Mario grow larger, allowing him to take one extra hit\\n - Fire Flower: Gives Mario the ability to shoot fireballs\\n - Star: Makes Mario invincible for a short period\\n\\n#### Enemies:\\n - Goomba: (brown mushrooms like characters) Basic enemies, can be defeated by jumping on them\\n - Koopa Troopa: (turtle-like characters)Faster-moving enemies, usually require more precision to defeat\\n - Bowser: (leader of the turtle-like Koopa, )The ultimate boss at the end of each worldGame Features\\n\\n#### Possible scenarios in the game:\\n - Running into enemies will hurt you.\\n - Falling into a hole will kill you.\\n - Eating a mushroom will make you bigger and give you an extra life.\\n - Jumping on enemies will defeat them.\\n - Eating a fire flower will allow you to throw fireballs to attack enemies.\\n - Eating a star will grant you temporary invincibility.\\n\\nYou need to briefly summarize the game\\'s progression based on the video content and tell me how do you feel about the journey you just had from your first-person perspective? Do you think the player performed well or poorly? (e.g., poorly because they kept making you die or run into enemies, very well because they made few mistakes and quickly completed the levels)\\nYou have to provided information from a first-person perspective.'"
      ]
     },
     "execution_count": 10,
     "metadata": {},
     "output_type": "execute_result"
    }
   ],
   "source": [
    "response.predictions[0]"
   ]
  },
  {
   "cell_type": "code",
   "execution_count": 6,
   "id": "694fcc29-da4a-4d52-bb1e-04f006dcb30a",
   "metadata": {},
   "outputs": [],
   "source": [
    "response = predict({\"Action\": \"update_prompt\", \"new_prompt\": \"123321\"})"
   ]
  },
  {
   "cell_type": "code",
   "execution_count": null,
   "id": "b1c0fb79-8b82-48e4-9941-8a735e2465ed",
   "metadata": {},
   "outputs": [],
   "source": []
  },
  {
   "cell_type": "code",
   "execution_count": 8,
   "id": "a95459b2-04fe-4726-9061-31b6356175a8",
   "metadata": {},
   "outputs": [
    {
     "data": {
      "text/plain": [
       "predictions {\n",
       "  string_value: \"This is a video of a streamer playing Super Mario game.\\nHere are some game rules:\\n## Game Overview\\n#### Main Character: Mario\\n#### Objective: Rescue Princess Peach who has been kidnapped by Bowser\\n#### Story Setting: The game is set in a fantasy world called the \\\"Mushroom Kingdom.\\\"\\n\\n## Game Features\\n#### Power-ups:\\n - Mushroom: Makes Mario grow larger, allowing him to take one extra hit\\n - Fire Flower: Gives Mario the ability to shoot fireballs\\n - Star: Makes Mario invincible for a short period\\n\\n#### Enemies:\\n - Goomba: (brown mushrooms like characters) Basic enemies, can be defeated by jumping on them\\n - Koopa Troopa: (turtle-like characters)Faster-moving enemies, usually require more precision to defeat\\n - Bowser: (leader of the turtle-like Koopa, )The ultimate boss at the end of each worldGame Features\\n\\n#### Possible scenarios in the game:\\n - Running into enemies will hurt you.\\n - Falling into a hole will kill you.\\n - Eating a mushroom will make you bigger and give you an extra life.\\n - Jumping on enemies will defeat them.\\n - Eating a fire flower will allow you to throw fireballs to attack enemies.\\n - Eating a star will grant you temporary invincibility.\\n\\nYou need to briefly summarize the game\\'s progression based on the video content and tell me how do you feel about the journey you just had from your first-person perspective? Do you think the player performed well or poorly? (e.g., poorly because they kept making you die or run into enemies, very well because they made few mistakes and quickly completed the levels)\\nYou have to provided information from a first-person perspective.\"\n",
       "}\n",
       "deployed_model_id: \"2404325166201962496\"\n",
       "model: \"projects/643382646801/locations/us-central1/models/3051620855613227008\"\n",
       "model_version_id: \"6\"\n",
       "model_display_name: \"supermario_video_summarizer\""
      ]
     },
     "execution_count": 8,
     "metadata": {},
     "output_type": "execute_result"
    }
   ],
   "source": [
    "response = predict({\"Action\": \"update_prompt\", \"new_prompt\": \"\"\"This is a video of a streamer playing Super Mario game.\n",
    "Here are some game rules:\n",
    "## Game Overview\n",
    "#### Main Character: Mario\n",
    "#### Objective: Rescue Princess Peach who has been kidnapped by Bowser\n",
    "#### Story Setting: The game is set in a fantasy world called the \"Mushroom Kingdom.\"\n",
    "\n",
    "## Game Features\n",
    "#### Power-ups:\n",
    " - Mushroom: Makes Mario grow larger, allowing him to take one extra hit\n",
    " - Fire Flower: Gives Mario the ability to shoot fireballs\n",
    " - Star: Makes Mario invincible for a short period\n",
    "\n",
    "#### Enemies:\n",
    " - Goomba: (brown mushrooms like characters) Basic enemies, can be defeated by jumping on them\n",
    " - Koopa Troopa: (turtle-like characters)Faster-moving enemies, usually require more precision to defeat\n",
    " - Bowser: (leader of the turtle-like Koopa, )The ultimate boss at the end of each worldGame Features\n",
    "\n",
    "#### Possible scenarios in the game:\n",
    " - Running into enemies will hurt you.\n",
    " - Falling into a hole will kill you.\n",
    " - Eating a mushroom will make you bigger and give you an extra life.\n",
    " - Jumping on enemies will defeat them.\n",
    " - Eating a fire flower will allow you to throw fireballs to attack enemies.\n",
    " - Eating a star will grant you temporary invincibility.\n",
    "\n",
    "You need to briefly summarize the game's progression based on the video content and tell me how do you feel about the journey you just had from your first-person perspective? Do you think the player performed well or poorly? (e.g., poorly because they kept making you die or run into enemies, very well because they made few mistakes and quickly completed the levels)\n",
    "You have to provided information from a first-person perspective.\"\"\"})\n",
    "response"
   ]
  },
  {
   "cell_type": "code",
   "execution_count": 11,
   "id": "616601a8-4631-45fa-b833-838358238b2f",
   "metadata": {},
   "outputs": [
    {
     "ename": "InternalServerError",
     "evalue": "500 <!doctype html>\n<html lang=en>\n<title>500 Internal Server Error</title>\n<h1>Internal Server Error</h1>\n<p>The server encountered an internal error and was unable to complete your request. Either the server is overloaded or there is an error in the application.</p>\n",
     "output_type": "error",
     "traceback": [
      "\u001b[0;31m---------------------------------------------------------------------------\u001b[0m",
      "\u001b[0;31m_InactiveRpcError\u001b[0m                         Traceback (most recent call last)",
      "File \u001b[0;32m~/Library/Python/3.9/lib/python/site-packages/google/api_core/grpc_helpers.py:75\u001b[0m, in \u001b[0;36m_wrap_unary_errors.<locals>.error_remapped_callable\u001b[0;34m(*args, **kwargs)\u001b[0m\n\u001b[1;32m     74\u001b[0m \u001b[38;5;28;01mtry\u001b[39;00m:\n\u001b[0;32m---> 75\u001b[0m     \u001b[38;5;28;01mreturn\u001b[39;00m \u001b[43mcallable_\u001b[49m\u001b[43m(\u001b[49m\u001b[38;5;241;43m*\u001b[39;49m\u001b[43margs\u001b[49m\u001b[43m,\u001b[49m\u001b[43m \u001b[49m\u001b[38;5;241;43m*\u001b[39;49m\u001b[38;5;241;43m*\u001b[39;49m\u001b[43mkwargs\u001b[49m\u001b[43m)\u001b[49m\n\u001b[1;32m     76\u001b[0m \u001b[38;5;28;01mexcept\u001b[39;00m grpc\u001b[38;5;241m.\u001b[39mRpcError \u001b[38;5;28;01mas\u001b[39;00m exc:\n",
      "File \u001b[0;32m~/Library/Python/3.9/lib/python/site-packages/grpc/_channel.py:1161\u001b[0m, in \u001b[0;36m_UnaryUnaryMultiCallable.__call__\u001b[0;34m(self, request, timeout, metadata, credentials, wait_for_ready, compression)\u001b[0m\n\u001b[1;32m   1155\u001b[0m (\n\u001b[1;32m   1156\u001b[0m     state,\n\u001b[1;32m   1157\u001b[0m     call,\n\u001b[1;32m   1158\u001b[0m ) \u001b[38;5;241m=\u001b[39m \u001b[38;5;28mself\u001b[39m\u001b[38;5;241m.\u001b[39m_blocking(\n\u001b[1;32m   1159\u001b[0m     request, timeout, metadata, credentials, wait_for_ready, compression\n\u001b[1;32m   1160\u001b[0m )\n\u001b[0;32m-> 1161\u001b[0m \u001b[38;5;28;01mreturn\u001b[39;00m \u001b[43m_end_unary_response_blocking\u001b[49m\u001b[43m(\u001b[49m\u001b[43mstate\u001b[49m\u001b[43m,\u001b[49m\u001b[43m \u001b[49m\u001b[43mcall\u001b[49m\u001b[43m,\u001b[49m\u001b[43m \u001b[49m\u001b[38;5;28;43;01mFalse\u001b[39;49;00m\u001b[43m,\u001b[49m\u001b[43m \u001b[49m\u001b[38;5;28;43;01mNone\u001b[39;49;00m\u001b[43m)\u001b[49m\n",
      "File \u001b[0;32m~/Library/Python/3.9/lib/python/site-packages/grpc/_channel.py:1004\u001b[0m, in \u001b[0;36m_end_unary_response_blocking\u001b[0;34m(state, call, with_call, deadline)\u001b[0m\n\u001b[1;32m   1003\u001b[0m \u001b[38;5;28;01melse\u001b[39;00m:\n\u001b[0;32m-> 1004\u001b[0m     \u001b[38;5;28;01mraise\u001b[39;00m _InactiveRpcError(state)\n",
      "\u001b[0;31m_InactiveRpcError\u001b[0m: <_InactiveRpcError of RPC that terminated with:\n\tstatus = StatusCode.INTERNAL\n\tdetails = \"<!doctype html>\n<html lang=en>\n<title>500 Internal Server Error</title>\n<h1>Internal Server Error</h1>\n<p>The server encountered an internal error and was unable to complete your request. Either the server is overloaded or there is an error in the application.</p>\n\"\n\tdebug_error_string = \"UNKNOWN:Error received from peer ipv4:142.251.42.234:443 {grpc_message:\"<!doctype html>\\n<html lang=en>\\n<title>500 Internal Server Error</title>\\n<h1>Internal Server Error</h1>\\n<p>The server encountered an internal error and was unable to complete your request. Either the server is overloaded or there is an error in the application.</p>\\n\", grpc_status:13, created_time:\"2024-06-24T12:10:33.002994+08:00\"}\"\n>",
      "\nThe above exception was the direct cause of the following exception:\n",
      "\u001b[0;31mInternalServerError\u001b[0m                       Traceback (most recent call last)",
      "Cell \u001b[0;32mIn[11], line 1\u001b[0m\n\u001b[0;32m----> 1\u001b[0m response \u001b[38;5;241m=\u001b[39m \u001b[43mpredict\u001b[49m\u001b[43m(\u001b[49m\u001b[43m{\u001b[49m\u001b[38;5;124;43m\"\u001b[39;49m\u001b[38;5;124;43mAction\u001b[39;49m\u001b[38;5;124;43m\"\u001b[39;49m\u001b[43m:\u001b[49m\u001b[43m \u001b[49m\u001b[38;5;124;43m\"\u001b[39;49m\u001b[38;5;124;43mgenerate\u001b[39;49m\u001b[38;5;124;43m\"\u001b[39;49m\u001b[43m,\u001b[49m\u001b[43m \u001b[49m\u001b[38;5;124;43m\"\u001b[39;49m\u001b[38;5;124;43mInput\u001b[39;49m\u001b[38;5;124;43m\"\u001b[39;49m\u001b[43m:\u001b[49m\u001b[43m \u001b[49m\u001b[38;5;124;43m\"\u001b[39;49m\u001b[38;5;124;43mSuperMario/SuperMarioDemoVideo2_10fps_2.mp4\u001b[39;49m\u001b[38;5;124;43m\"\u001b[39;49m\u001b[43m}\u001b[49m\u001b[43m)\u001b[49m\n\u001b[1;32m      2\u001b[0m response\n",
      "Cell \u001b[0;32mIn[2], line 23\u001b[0m, in \u001b[0;36mpredict\u001b[0;34m(instances)\u001b[0m\n\u001b[1;32m     19\u001b[0m parameters \u001b[38;5;241m=\u001b[39m json_format\u001b[38;5;241m.\u001b[39mParseDict(parameters_dict, Value())\n\u001b[1;32m     20\u001b[0m endpoint \u001b[38;5;241m=\u001b[39m client\u001b[38;5;241m.\u001b[39mendpoint_path(\n\u001b[1;32m     21\u001b[0m     project\u001b[38;5;241m=\u001b[39mproject, location\u001b[38;5;241m=\u001b[39mlocation, endpoint\u001b[38;5;241m=\u001b[39mendpoint_id\n\u001b[1;32m     22\u001b[0m )\n\u001b[0;32m---> 23\u001b[0m response \u001b[38;5;241m=\u001b[39m \u001b[43mclient\u001b[49m\u001b[38;5;241;43m.\u001b[39;49m\u001b[43mpredict\u001b[49m\u001b[43m(\u001b[49m\n\u001b[1;32m     24\u001b[0m \u001b[43m    \u001b[49m\u001b[43mendpoint\u001b[49m\u001b[38;5;241;43m=\u001b[39;49m\u001b[43mendpoint\u001b[49m\u001b[43m,\u001b[49m\u001b[43m \u001b[49m\u001b[43minstances\u001b[49m\u001b[38;5;241;43m=\u001b[39;49m\u001b[43minstances\u001b[49m\u001b[43m,\u001b[49m\u001b[43m \u001b[49m\u001b[43mparameters\u001b[49m\u001b[38;5;241;43m=\u001b[39;49m\u001b[43mparameters\u001b[49m\n\u001b[1;32m     25\u001b[0m \u001b[43m\u001b[49m\u001b[43m)\u001b[49m\n\u001b[1;32m     26\u001b[0m \u001b[38;5;28;01mreturn\u001b[39;00m response\n",
      "File \u001b[0;32m~/Library/Python/3.9/lib/python/site-packages/google/cloud/aiplatform_v1/services/prediction_service/client.py:851\u001b[0m, in \u001b[0;36mPredictionServiceClient.predict\u001b[0;34m(self, request, endpoint, instances, parameters, retry, timeout, metadata)\u001b[0m\n\u001b[1;32m    848\u001b[0m \u001b[38;5;28mself\u001b[39m\u001b[38;5;241m.\u001b[39m_validate_universe_domain()\n\u001b[1;32m    850\u001b[0m \u001b[38;5;66;03m# Send the request.\u001b[39;00m\n\u001b[0;32m--> 851\u001b[0m response \u001b[38;5;241m=\u001b[39m \u001b[43mrpc\u001b[49m\u001b[43m(\u001b[49m\n\u001b[1;32m    852\u001b[0m \u001b[43m    \u001b[49m\u001b[43mrequest\u001b[49m\u001b[43m,\u001b[49m\n\u001b[1;32m    853\u001b[0m \u001b[43m    \u001b[49m\u001b[43mretry\u001b[49m\u001b[38;5;241;43m=\u001b[39;49m\u001b[43mretry\u001b[49m\u001b[43m,\u001b[49m\n\u001b[1;32m    854\u001b[0m \u001b[43m    \u001b[49m\u001b[43mtimeout\u001b[49m\u001b[38;5;241;43m=\u001b[39;49m\u001b[43mtimeout\u001b[49m\u001b[43m,\u001b[49m\n\u001b[1;32m    855\u001b[0m \u001b[43m    \u001b[49m\u001b[43mmetadata\u001b[49m\u001b[38;5;241;43m=\u001b[39;49m\u001b[43mmetadata\u001b[49m\u001b[43m,\u001b[49m\n\u001b[1;32m    856\u001b[0m \u001b[43m\u001b[49m\u001b[43m)\u001b[49m\n\u001b[1;32m    858\u001b[0m \u001b[38;5;66;03m# Done; return the response.\u001b[39;00m\n\u001b[1;32m    859\u001b[0m \u001b[38;5;28;01mreturn\u001b[39;00m response\n",
      "File \u001b[0;32m~/Library/Python/3.9/lib/python/site-packages/google/api_core/gapic_v1/method.py:131\u001b[0m, in \u001b[0;36m_GapicCallable.__call__\u001b[0;34m(self, timeout, retry, compression, *args, **kwargs)\u001b[0m\n\u001b[1;32m    128\u001b[0m \u001b[38;5;28;01mif\u001b[39;00m \u001b[38;5;28mself\u001b[39m\u001b[38;5;241m.\u001b[39m_compression \u001b[38;5;129;01mis\u001b[39;00m \u001b[38;5;129;01mnot\u001b[39;00m \u001b[38;5;28;01mNone\u001b[39;00m:\n\u001b[1;32m    129\u001b[0m     kwargs[\u001b[38;5;124m\"\u001b[39m\u001b[38;5;124mcompression\u001b[39m\u001b[38;5;124m\"\u001b[39m] \u001b[38;5;241m=\u001b[39m compression\n\u001b[0;32m--> 131\u001b[0m \u001b[38;5;28;01mreturn\u001b[39;00m \u001b[43mwrapped_func\u001b[49m\u001b[43m(\u001b[49m\u001b[38;5;241;43m*\u001b[39;49m\u001b[43margs\u001b[49m\u001b[43m,\u001b[49m\u001b[43m \u001b[49m\u001b[38;5;241;43m*\u001b[39;49m\u001b[38;5;241;43m*\u001b[39;49m\u001b[43mkwargs\u001b[49m\u001b[43m)\u001b[49m\n",
      "File \u001b[0;32m~/Library/Python/3.9/lib/python/site-packages/google/api_core/grpc_helpers.py:77\u001b[0m, in \u001b[0;36m_wrap_unary_errors.<locals>.error_remapped_callable\u001b[0;34m(*args, **kwargs)\u001b[0m\n\u001b[1;32m     75\u001b[0m     \u001b[38;5;28;01mreturn\u001b[39;00m callable_(\u001b[38;5;241m*\u001b[39margs, \u001b[38;5;241m*\u001b[39m\u001b[38;5;241m*\u001b[39mkwargs)\n\u001b[1;32m     76\u001b[0m \u001b[38;5;28;01mexcept\u001b[39;00m grpc\u001b[38;5;241m.\u001b[39mRpcError \u001b[38;5;28;01mas\u001b[39;00m exc:\n\u001b[0;32m---> 77\u001b[0m     \u001b[38;5;28;01mraise\u001b[39;00m exceptions\u001b[38;5;241m.\u001b[39mfrom_grpc_error(exc) \u001b[38;5;28;01mfrom\u001b[39;00m \u001b[38;5;21;01mexc\u001b[39;00m\n",
      "\u001b[0;31mInternalServerError\u001b[0m: 500 <!doctype html>\n<html lang=en>\n<title>500 Internal Server Error</title>\n<h1>Internal Server Error</h1>\n<p>The server encountered an internal error and was unable to complete your request. Either the server is overloaded or there is an error in the application.</p>\n"
     ]
    }
   ],
   "source": [
    "response = predict({\"Action\": \"generate\", \"Input\": \"SuperMario/SuperMarioDemoVideo2_10fps_2.mp4\"})\n",
    "response"
   ]
  },
  {
   "cell_type": "code",
   "execution_count": null,
   "id": "b38ec044-2748-4001-98ed-d8773abf2cd7",
   "metadata": {},
   "outputs": [],
   "source": []
  }
 ],
 "metadata": {
  "kernelspec": {
   "display_name": "allspark",
   "language": "python",
   "name": "allspark"
  },
  "language_info": {
   "codemirror_mode": {
    "name": "ipython",
    "version": 3
   },
   "file_extension": ".py",
   "mimetype": "text/x-python",
   "name": "python",
   "nbconvert_exporter": "python",
   "pygments_lexer": "ipython3",
   "version": "3.9.6"
  }
 },
 "nbformat": 4,
 "nbformat_minor": 5
}
